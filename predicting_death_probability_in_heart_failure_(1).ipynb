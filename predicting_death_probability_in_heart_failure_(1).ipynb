{
  "nbformat": 4,
  "nbformat_minor": 5,
  "metadata": {
    "kernelspec": {
      "display_name": "R",
      "language": "R",
      "name": "ir"
    },
    "language_info": {
      "codemirror_mode": "r",
      "file_extension": ".r",
      "mimetype": "text/x-r-source",
      "name": "R",
      "pygments_lexer": "r",
      "version": "4.0.5"
    },
    "papermill": {
      "default_parameters": {},
      "duration": 9.294213,
      "end_time": "2021-10-19T18:15:43.097449",
      "environment_variables": {},
      "exception": null,
      "input_path": "__notebook__.ipynb",
      "output_path": "__notebook__.ipynb",
      "parameters": {},
      "start_time": "2021-10-19T18:15:33.803236",
      "version": "2.3.3"
    },
    "colab": {
      "name": "predicting-death-probability-in-heart-failure (1).ipynb",
      "provenance": [],
      "include_colab_link": true
    }
  },
  "cells": [
    {
      "cell_type": "markdown",
      "metadata": {
        "id": "view-in-github",
        "colab_type": "text"
      },
      "source": [
        "<a href=\"https://colab.research.google.com/github/Felipe-Furtado/Felipe-Furtado/blob/main/predicting_death_probability_in_heart_failure_(1).ipynb\" target=\"_parent\"><img src=\"https://colab.research.google.com/assets/colab-badge.svg\" alt=\"Open In Colab\"/></a>"
      ]
    },
    {
      "cell_type": "markdown",
      "metadata": {
        "papermill": {
          "duration": 0.027807,
          "end_time": "2021-10-19T18:15:36.967752",
          "exception": false,
          "start_time": "2021-10-19T18:15:36.939945",
          "status": "completed"
        },
        "tags": [],
        "id": "8d1cfded"
      },
      "source": [
        "# Predicting death probability in Heart Failure using logistic regression"
      ],
      "id": "8d1cfded"
    },
    {
      "cell_type": "markdown",
      "metadata": {
        "papermill": {
          "duration": 0.025315,
          "end_time": "2021-10-19T18:15:37.018684",
          "exception": false,
          "start_time": "2021-10-19T18:15:36.993369",
          "status": "completed"
        },
        "tags": [],
        "id": "ee1a66e2"
      },
      "source": [
        "<h4> In this notebook we will use the dataset provided by Davide Chicco & Giuseppe Jurman  to predict the probability of fatal events according to clinical features in patients with heart failure </h4>\n",
        "\n",
        "<p>A link to the full text is available <a href=\"https://bmcmedinformdecismak.biomedcentral.com/articles/10.1186/s12911-020-1023-5\">here</href></p>"
      ],
      "id": "ee1a66e2"
    },
    {
      "cell_type": "code",
      "metadata": {
        "execution": {
          "iopub.execute_input": "2021-10-19T18:15:37.078792Z",
          "iopub.status.busy": "2021-10-19T18:15:37.075684Z",
          "iopub.status.idle": "2021-10-19T18:15:38.354969Z",
          "shell.execute_reply": "2021-10-19T18:15:38.353289Z"
        },
        "papermill": {
          "duration": 1.310933,
          "end_time": "2021-10-19T18:15:38.355140",
          "exception": false,
          "start_time": "2021-10-19T18:15:37.044207",
          "status": "completed"
        },
        "tags": [],
        "id": "7b66233d",
        "outputId": "11ca6321-4da2-49e2-9158-dd57c3dac442"
      },
      "source": [
        "#load packages\n",
        "library(tidyverse)\n",
        "#import data\n",
        "data <- read.csv(\"../input/heart-failure-clinical-data/heart_failure_clinical_records_dataset.csv\")\n"
      ],
      "id": "7b66233d",
      "execution_count": null,
      "outputs": [
        {
          "name": "stderr",
          "output_type": "stream",
          "text": [
            "── \u001b[1mAttaching packages\u001b[22m ─────────────────────────────────────── tidyverse 1.3.1 ──\n",
            "\n",
            "\u001b[32m✔\u001b[39m \u001b[34mggplot2\u001b[39m 3.3.5     \u001b[32m✔\u001b[39m \u001b[34mpurrr  \u001b[39m 0.3.4\n",
            "\u001b[32m✔\u001b[39m \u001b[34mtibble \u001b[39m 3.1.4     \u001b[32m✔\u001b[39m \u001b[34mdplyr  \u001b[39m 1.0.7\n",
            "\u001b[32m✔\u001b[39m \u001b[34mtidyr  \u001b[39m 1.1.3     \u001b[32m✔\u001b[39m \u001b[34mstringr\u001b[39m 1.4.0\n",
            "\u001b[32m✔\u001b[39m \u001b[34mreadr  \u001b[39m 2.0.1     \u001b[32m✔\u001b[39m \u001b[34mforcats\u001b[39m 0.5.1\n",
            "\n",
            "── \u001b[1mConflicts\u001b[22m ────────────────────────────────────────── tidyverse_conflicts() ──\n",
            "\u001b[31m✖\u001b[39m \u001b[34mdplyr\u001b[39m::\u001b[32mfilter()\u001b[39m masks \u001b[34mstats\u001b[39m::filter()\n",
            "\u001b[31m✖\u001b[39m \u001b[34mdplyr\u001b[39m::\u001b[32mlag()\u001b[39m    masks \u001b[34mstats\u001b[39m::lag()\n",
            "\n"
          ]
        }
      ]
    },
    {
      "cell_type": "markdown",
      "metadata": {
        "papermill": {
          "duration": 0.026767,
          "end_time": "2021-10-19T18:15:38.409819",
          "exception": false,
          "start_time": "2021-10-19T18:15:38.383052",
          "status": "completed"
        },
        "tags": [],
        "id": "dd3f8343"
      },
      "source": [
        "<h4>After loading tidyverse and importing the data, we are ready for some exploratory analyses</h4>"
      ],
      "id": "dd3f8343"
    },
    {
      "cell_type": "code",
      "metadata": {
        "execution": {
          "iopub.execute_input": "2021-10-19T18:15:38.500383Z",
          "iopub.status.busy": "2021-10-19T18:15:38.467501Z",
          "iopub.status.idle": "2021-10-19T18:15:38.533108Z",
          "shell.execute_reply": "2021-10-19T18:15:38.531357Z"
        },
        "papermill": {
          "duration": 0.096839,
          "end_time": "2021-10-19T18:15:38.533250",
          "exception": false,
          "start_time": "2021-10-19T18:15:38.436411",
          "status": "completed"
        },
        "tags": [],
        "id": "a8601076",
        "outputId": "1630de6f-c41c-415e-8de0-d1faf65c962a"
      },
      "source": [
        "#exploratory analysis\n",
        "head(data)"
      ],
      "id": "a8601076",
      "execution_count": null,
      "outputs": [
        {
          "data": {
            "text/html": [
              "<table class=\"dataframe\">\n",
              "<caption>A data.frame: 6 × 13</caption>\n",
              "<thead>\n",
              "\t<tr><th></th><th scope=col>age</th><th scope=col>anaemia</th><th scope=col>creatinine_phosphokinase</th><th scope=col>diabetes</th><th scope=col>ejection_fraction</th><th scope=col>high_blood_pressure</th><th scope=col>platelets</th><th scope=col>serum_creatinine</th><th scope=col>serum_sodium</th><th scope=col>sex</th><th scope=col>smoking</th><th scope=col>time</th><th scope=col>DEATH_EVENT</th></tr>\n",
              "\t<tr><th></th><th scope=col>&lt;dbl&gt;</th><th scope=col>&lt;int&gt;</th><th scope=col>&lt;int&gt;</th><th scope=col>&lt;int&gt;</th><th scope=col>&lt;int&gt;</th><th scope=col>&lt;int&gt;</th><th scope=col>&lt;dbl&gt;</th><th scope=col>&lt;dbl&gt;</th><th scope=col>&lt;int&gt;</th><th scope=col>&lt;int&gt;</th><th scope=col>&lt;int&gt;</th><th scope=col>&lt;int&gt;</th><th scope=col>&lt;int&gt;</th></tr>\n",
              "</thead>\n",
              "<tbody>\n",
              "\t<tr><th scope=row>1</th><td>75</td><td>0</td><td> 582</td><td>0</td><td>20</td><td>1</td><td>265000</td><td>1.9</td><td>130</td><td>1</td><td>0</td><td>4</td><td>1</td></tr>\n",
              "\t<tr><th scope=row>2</th><td>55</td><td>0</td><td>7861</td><td>0</td><td>38</td><td>0</td><td>263358</td><td>1.1</td><td>136</td><td>1</td><td>0</td><td>6</td><td>1</td></tr>\n",
              "\t<tr><th scope=row>3</th><td>65</td><td>0</td><td> 146</td><td>0</td><td>20</td><td>0</td><td>162000</td><td>1.3</td><td>129</td><td>1</td><td>1</td><td>7</td><td>1</td></tr>\n",
              "\t<tr><th scope=row>4</th><td>50</td><td>1</td><td> 111</td><td>0</td><td>20</td><td>0</td><td>210000</td><td>1.9</td><td>137</td><td>1</td><td>0</td><td>7</td><td>1</td></tr>\n",
              "\t<tr><th scope=row>5</th><td>65</td><td>1</td><td> 160</td><td>1</td><td>20</td><td>0</td><td>327000</td><td>2.7</td><td>116</td><td>0</td><td>0</td><td>8</td><td>1</td></tr>\n",
              "\t<tr><th scope=row>6</th><td>90</td><td>1</td><td>  47</td><td>0</td><td>40</td><td>1</td><td>204000</td><td>2.1</td><td>132</td><td>1</td><td>1</td><td>8</td><td>1</td></tr>\n",
              "</tbody>\n",
              "</table>\n"
            ],
            "text/latex": [
              "A data.frame: 6 × 13\n",
              "\\begin{tabular}{r|lllllllllllll}\n",
              "  & age & anaemia & creatinine\\_phosphokinase & diabetes & ejection\\_fraction & high\\_blood\\_pressure & platelets & serum\\_creatinine & serum\\_sodium & sex & smoking & time & DEATH\\_EVENT\\\\\n",
              "  & <dbl> & <int> & <int> & <int> & <int> & <int> & <dbl> & <dbl> & <int> & <int> & <int> & <int> & <int>\\\\\n",
              "\\hline\n",
              "\t1 & 75 & 0 &  582 & 0 & 20 & 1 & 265000 & 1.9 & 130 & 1 & 0 & 4 & 1\\\\\n",
              "\t2 & 55 & 0 & 7861 & 0 & 38 & 0 & 263358 & 1.1 & 136 & 1 & 0 & 6 & 1\\\\\n",
              "\t3 & 65 & 0 &  146 & 0 & 20 & 0 & 162000 & 1.3 & 129 & 1 & 1 & 7 & 1\\\\\n",
              "\t4 & 50 & 1 &  111 & 0 & 20 & 0 & 210000 & 1.9 & 137 & 1 & 0 & 7 & 1\\\\\n",
              "\t5 & 65 & 1 &  160 & 1 & 20 & 0 & 327000 & 2.7 & 116 & 0 & 0 & 8 & 1\\\\\n",
              "\t6 & 90 & 1 &   47 & 0 & 40 & 1 & 204000 & 2.1 & 132 & 1 & 1 & 8 & 1\\\\\n",
              "\\end{tabular}\n"
            ],
            "text/markdown": [
              "\n",
              "A data.frame: 6 × 13\n",
              "\n",
              "| <!--/--> | age &lt;dbl&gt; | anaemia &lt;int&gt; | creatinine_phosphokinase &lt;int&gt; | diabetes &lt;int&gt; | ejection_fraction &lt;int&gt; | high_blood_pressure &lt;int&gt; | platelets &lt;dbl&gt; | serum_creatinine &lt;dbl&gt; | serum_sodium &lt;int&gt; | sex &lt;int&gt; | smoking &lt;int&gt; | time &lt;int&gt; | DEATH_EVENT &lt;int&gt; |\n",
              "|---|---|---|---|---|---|---|---|---|---|---|---|---|---|\n",
              "| 1 | 75 | 0 |  582 | 0 | 20 | 1 | 265000 | 1.9 | 130 | 1 | 0 | 4 | 1 |\n",
              "| 2 | 55 | 0 | 7861 | 0 | 38 | 0 | 263358 | 1.1 | 136 | 1 | 0 | 6 | 1 |\n",
              "| 3 | 65 | 0 |  146 | 0 | 20 | 0 | 162000 | 1.3 | 129 | 1 | 1 | 7 | 1 |\n",
              "| 4 | 50 | 1 |  111 | 0 | 20 | 0 | 210000 | 1.9 | 137 | 1 | 0 | 7 | 1 |\n",
              "| 5 | 65 | 1 |  160 | 1 | 20 | 0 | 327000 | 2.7 | 116 | 0 | 0 | 8 | 1 |\n",
              "| 6 | 90 | 1 |   47 | 0 | 40 | 1 | 204000 | 2.1 | 132 | 1 | 1 | 8 | 1 |\n",
              "\n"
            ],
            "text/plain": [
              "  age anaemia creatinine_phosphokinase diabetes ejection_fraction\n",
              "1 75  0        582                     0        20               \n",
              "2 55  0       7861                     0        38               \n",
              "3 65  0        146                     0        20               \n",
              "4 50  1        111                     0        20               \n",
              "5 65  1        160                     1        20               \n",
              "6 90  1         47                     0        40               \n",
              "  high_blood_pressure platelets serum_creatinine serum_sodium sex smoking time\n",
              "1 1                   265000    1.9              130          1   0       4   \n",
              "2 0                   263358    1.1              136          1   0       6   \n",
              "3 0                   162000    1.3              129          1   1       7   \n",
              "4 0                   210000    1.9              137          1   0       7   \n",
              "5 0                   327000    2.7              116          0   0       8   \n",
              "6 1                   204000    2.1              132          1   1       8   \n",
              "  DEATH_EVENT\n",
              "1 1          \n",
              "2 1          \n",
              "3 1          \n",
              "4 1          \n",
              "5 1          \n",
              "6 1          "
            ]
          },
          "metadata": {},
          "output_type": "display_data"
        }
      ]
    },
    {
      "cell_type": "code",
      "metadata": {
        "execution": {
          "iopub.execute_input": "2021-10-19T18:15:38.594798Z",
          "iopub.status.busy": "2021-10-19T18:15:38.592632Z",
          "iopub.status.idle": "2021-10-19T18:15:38.624826Z",
          "shell.execute_reply": "2021-10-19T18:15:38.623120Z"
        },
        "papermill": {
          "duration": 0.064218,
          "end_time": "2021-10-19T18:15:38.624981",
          "exception": false,
          "start_time": "2021-10-19T18:15:38.560763",
          "status": "completed"
        },
        "tags": [],
        "id": "f5f301bf",
        "outputId": "ccf8f2ea-1fb3-40c1-99d6-bdcf28388053"
      },
      "source": [
        "str(data)"
      ],
      "id": "f5f301bf",
      "execution_count": null,
      "outputs": [
        {
          "name": "stdout",
          "output_type": "stream",
          "text": [
            "'data.frame':\t299 obs. of  13 variables:\n",
            " $ age                     : num  75 55 65 50 65 90 75 60 65 80 ...\n",
            " $ anaemia                 : int  0 0 0 1 1 1 1 1 0 1 ...\n",
            " $ creatinine_phosphokinase: int  582 7861 146 111 160 47 246 315 157 123 ...\n",
            " $ diabetes                : int  0 0 0 0 1 0 0 1 0 0 ...\n",
            " $ ejection_fraction       : int  20 38 20 20 20 40 15 60 65 35 ...\n",
            " $ high_blood_pressure     : int  1 0 0 0 0 1 0 0 0 1 ...\n",
            " $ platelets               : num  265000 263358 162000 210000 327000 ...\n",
            " $ serum_creatinine        : num  1.9 1.1 1.3 1.9 2.7 2.1 1.2 1.1 1.5 9.4 ...\n",
            " $ serum_sodium            : int  130 136 129 137 116 132 137 131 138 133 ...\n",
            " $ sex                     : int  1 1 1 1 0 1 1 1 0 1 ...\n",
            " $ smoking                 : int  0 0 1 0 0 1 0 1 0 1 ...\n",
            " $ time                    : int  4 6 7 7 8 8 10 10 10 10 ...\n",
            " $ DEATH_EVENT             : int  1 1 1 1 1 1 1 1 1 1 ...\n"
          ]
        }
      ]
    },
    {
      "cell_type": "markdown",
      "metadata": {
        "papermill": {
          "duration": 0.027652,
          "end_time": "2021-10-19T18:15:38.681026",
          "exception": false,
          "start_time": "2021-10-19T18:15:38.653374",
          "status": "completed"
        },
        "tags": [],
        "id": "74ef79de"
      },
      "source": [
        "<h4>We need to adjust the dichotomous variables as factors</h4>"
      ],
      "id": "74ef79de"
    },
    {
      "cell_type": "code",
      "metadata": {
        "execution": {
          "iopub.execute_input": "2021-10-19T18:15:38.743314Z",
          "iopub.status.busy": "2021-10-19T18:15:38.741189Z",
          "iopub.status.idle": "2021-10-19T18:15:38.765418Z",
          "shell.execute_reply": "2021-10-19T18:15:38.763832Z"
        },
        "papermill": {
          "duration": 0.05641,
          "end_time": "2021-10-19T18:15:38.765596",
          "exception": false,
          "start_time": "2021-10-19T18:15:38.709186",
          "status": "completed"
        },
        "tags": [],
        "id": "e8419bb4"
      },
      "source": [
        "data$anaemia <- factor(data$anaemia, levels=c(0,1), labels=c(\"No\",\"Yes\"))\n",
        "data$diabetes <- factor(data$diabetes, levels=c(0,1), labels=c(\"No\",\"Yes\"))\n",
        "data$high_blood_pressure <- factor(data$high_blood_pressure, levels=c(0,1), labels=c(\"No\",\"Yes\"))\n",
        "data$sex <- factor(data$sex, levels=c(0,1), labels=c(\"Female\",\"Male\"))\n",
        "data$smoking <- factor(data$smoking, levels=c(0,1), labels=c(\"No\",\"Yes\"))\n",
        "data$DEATH_EVENT <- factor(data$DEATH_EVENT, levels=c(0,1), labels=c(\"No\",\"Yes\"))"
      ],
      "id": "e8419bb4",
      "execution_count": null,
      "outputs": []
    },
    {
      "cell_type": "markdown",
      "metadata": {
        "papermill": {
          "duration": 0.027471,
          "end_time": "2021-10-19T18:15:38.820639",
          "exception": false,
          "start_time": "2021-10-19T18:15:38.793168",
          "status": "completed"
        },
        "tags": [],
        "id": "8e756730"
      },
      "source": [
        "Double-check the structure"
      ],
      "id": "8e756730"
    },
    {
      "cell_type": "code",
      "metadata": {
        "execution": {
          "iopub.execute_input": "2021-10-19T18:15:38.881750Z",
          "iopub.status.busy": "2021-10-19T18:15:38.880415Z",
          "iopub.status.idle": "2021-10-19T18:15:38.907913Z",
          "shell.execute_reply": "2021-10-19T18:15:38.905784Z"
        },
        "papermill": {
          "duration": 0.060025,
          "end_time": "2021-10-19T18:15:38.908064",
          "exception": false,
          "start_time": "2021-10-19T18:15:38.848039",
          "status": "completed"
        },
        "tags": [],
        "id": "3d6a6d0e",
        "outputId": "e5b051ec-4e1b-4798-e482-ee4f9155d2c0"
      },
      "source": [
        "str(data)"
      ],
      "id": "3d6a6d0e",
      "execution_count": null,
      "outputs": [
        {
          "name": "stdout",
          "output_type": "stream",
          "text": [
            "'data.frame':\t299 obs. of  13 variables:\n",
            " $ age                     : num  75 55 65 50 65 90 75 60 65 80 ...\n",
            " $ anaemia                 : Factor w/ 2 levels \"No\",\"Yes\": 1 1 1 2 2 2 2 2 1 2 ...\n",
            " $ creatinine_phosphokinase: int  582 7861 146 111 160 47 246 315 157 123 ...\n",
            " $ diabetes                : Factor w/ 2 levels \"No\",\"Yes\": 1 1 1 1 2 1 1 2 1 1 ...\n",
            " $ ejection_fraction       : int  20 38 20 20 20 40 15 60 65 35 ...\n",
            " $ high_blood_pressure     : Factor w/ 2 levels \"No\",\"Yes\": 2 1 1 1 1 2 1 1 1 2 ...\n",
            " $ platelets               : num  265000 263358 162000 210000 327000 ...\n",
            " $ serum_creatinine        : num  1.9 1.1 1.3 1.9 2.7 2.1 1.2 1.1 1.5 9.4 ...\n",
            " $ serum_sodium            : int  130 136 129 137 116 132 137 131 138 133 ...\n",
            " $ sex                     : Factor w/ 2 levels \"Female\",\"Male\": 2 2 2 2 1 2 2 2 1 2 ...\n",
            " $ smoking                 : Factor w/ 2 levels \"No\",\"Yes\": 1 1 2 1 1 2 1 2 1 2 ...\n",
            " $ time                    : int  4 6 7 7 8 8 10 10 10 10 ...\n",
            " $ DEATH_EVENT             : Factor w/ 2 levels \"No\",\"Yes\": 2 2 2 2 2 2 2 2 2 2 ...\n"
          ]
        }
      ]
    },
    {
      "cell_type": "markdown",
      "metadata": {
        "papermill": {
          "duration": 0.029809,
          "end_time": "2021-10-19T18:15:38.966975",
          "exception": false,
          "start_time": "2021-10-19T18:15:38.937166",
          "status": "completed"
        },
        "tags": [],
        "id": "6cb8b113"
      },
      "source": [
        "<h4>Check for missing values</h4>"
      ],
      "id": "6cb8b113"
    },
    {
      "cell_type": "code",
      "metadata": {
        "execution": {
          "iopub.execute_input": "2021-10-19T18:15:39.028626Z",
          "iopub.status.busy": "2021-10-19T18:15:39.027068Z",
          "iopub.status.idle": "2021-10-19T18:15:39.050317Z",
          "shell.execute_reply": "2021-10-19T18:15:39.048942Z"
        },
        "papermill": {
          "duration": 0.055468,
          "end_time": "2021-10-19T18:15:39.050462",
          "exception": false,
          "start_time": "2021-10-19T18:15:38.994994",
          "status": "completed"
        },
        "tags": [],
        "id": "6cf14717",
        "outputId": "b2689ffa-282d-4f7d-e027-6774a6d1edcf"
      },
      "source": [
        "sum(is.na(data))"
      ],
      "id": "6cf14717",
      "execution_count": null,
      "outputs": [
        {
          "data": {
            "text/html": [
              "0"
            ],
            "text/latex": [
              "0"
            ],
            "text/markdown": [
              "0"
            ],
            "text/plain": [
              "[1] 0"
            ]
          },
          "metadata": {},
          "output_type": "display_data"
        }
      ]
    },
    {
      "cell_type": "markdown",
      "metadata": {
        "papermill": {
          "duration": 0.028585,
          "end_time": "2021-10-19T18:15:39.107711",
          "exception": false,
          "start_time": "2021-10-19T18:15:39.079126",
          "status": "completed"
        },
        "tags": [],
        "id": "d604b3a8"
      },
      "source": [
        "<h3>Verify central tendencies and assess for bias</h3>"
      ],
      "id": "d604b3a8"
    },
    {
      "cell_type": "code",
      "metadata": {
        "execution": {
          "iopub.execute_input": "2021-10-19T18:15:39.170447Z",
          "iopub.status.busy": "2021-10-19T18:15:39.168897Z",
          "iopub.status.idle": "2021-10-19T18:15:39.190821Z",
          "shell.execute_reply": "2021-10-19T18:15:39.189417Z"
        },
        "papermill": {
          "duration": 0.054601,
          "end_time": "2021-10-19T18:15:39.190973",
          "exception": false,
          "start_time": "2021-10-19T18:15:39.136372",
          "status": "completed"
        },
        "tags": [],
        "id": "5e49e209",
        "outputId": "19528a59-ed6d-4619-8931-b4bac6c4cbec"
      },
      "source": [
        "summary(data)"
      ],
      "id": "5e49e209",
      "execution_count": null,
      "outputs": [
        {
          "data": {
            "text/plain": [
              "      age        anaemia   creatinine_phosphokinase diabetes  ejection_fraction\n",
              " Min.   :40.00   No :170   Min.   :  23.0           No :174   Min.   :14.00    \n",
              " 1st Qu.:51.00   Yes:129   1st Qu.: 116.5           Yes:125   1st Qu.:30.00    \n",
              " Median :60.00             Median : 250.0                     Median :38.00    \n",
              " Mean   :60.83             Mean   : 581.8                     Mean   :38.08    \n",
              " 3rd Qu.:70.00             3rd Qu.: 582.0                     3rd Qu.:45.00    \n",
              " Max.   :95.00             Max.   :7861.0                     Max.   :80.00    \n",
              " high_blood_pressure   platelets      serum_creatinine  serum_sodium  \n",
              " No :194             Min.   : 25100   Min.   :0.500    Min.   :113.0  \n",
              " Yes:105             1st Qu.:212500   1st Qu.:0.900    1st Qu.:134.0  \n",
              "                     Median :262000   Median :1.100    Median :137.0  \n",
              "                     Mean   :263358   Mean   :1.394    Mean   :136.6  \n",
              "                     3rd Qu.:303500   3rd Qu.:1.400    3rd Qu.:140.0  \n",
              "                     Max.   :850000   Max.   :9.400    Max.   :148.0  \n",
              "     sex      smoking        time       DEATH_EVENT\n",
              " Female:105   No :203   Min.   :  4.0   No :203    \n",
              " Male  :194   Yes: 96   1st Qu.: 73.0   Yes: 96    \n",
              "                        Median :115.0              \n",
              "                        Mean   :130.3              \n",
              "                        3rd Qu.:203.0              \n",
              "                        Max.   :285.0              "
            ]
          },
          "metadata": {},
          "output_type": "display_data"
        }
      ]
    },
    {
      "cell_type": "markdown",
      "metadata": {
        "papermill": {
          "duration": 0.028871,
          "end_time": "2021-10-19T18:15:39.249168",
          "exception": false,
          "start_time": "2021-10-19T18:15:39.220297",
          "status": "completed"
        },
        "tags": [],
        "id": "005a300a"
      },
      "source": [
        "<h4>So M is about 2x F, same for no-smokers and no events, which are also majority. Having fewer events than non-events is expected, but had to be accounted for so that the predictions are not based only on the majority groups. For example, as males tend to have more heart disease than females, one could pottentially predict better than chance alone just by assigning every male to event and every female to non-event.</h4>\n",
        "<p>We may test such hypothesis with a <b>Chi-Squared</b> test given dichotomous predictors and dichotomous outcomes</p>"
      ],
      "id": "005a300a"
    },
    {
      "cell_type": "code",
      "metadata": {
        "execution": {
          "iopub.execute_input": "2021-10-19T18:15:39.313057Z",
          "iopub.status.busy": "2021-10-19T18:15:39.311790Z",
          "iopub.status.idle": "2021-10-19T18:15:39.344029Z",
          "shell.execute_reply": "2021-10-19T18:15:39.342739Z"
        },
        "papermill": {
          "duration": 0.066026,
          "end_time": "2021-10-19T18:15:39.344177",
          "exception": false,
          "start_time": "2021-10-19T18:15:39.278151",
          "status": "completed"
        },
        "tags": [],
        "id": "fd77f78e",
        "outputId": "73998c3a-fd81-425d-daf7-2e025392c194"
      },
      "source": [
        "xtabs(~DEATH_EVENT+sex, data = data)\n",
        "chisq.test(data$sex, data$DEATH_EVENT)"
      ],
      "id": "fd77f78e",
      "execution_count": null,
      "outputs": [
        {
          "data": {
            "text/plain": [
              "           sex\n",
              "DEATH_EVENT Female Male\n",
              "        No      71  132\n",
              "        Yes     34   62"
            ]
          },
          "metadata": {},
          "output_type": "display_data"
        },
        {
          "data": {
            "text/plain": [
              "\n",
              "\tPearson's Chi-squared test with Yates' continuity correction\n",
              "\n",
              "data:  data$sex and data$DEATH_EVENT\n",
              "X-squared = 0, df = 1, p-value = 1\n"
            ]
          },
          "metadata": {},
          "output_type": "display_data"
        }
      ]
    },
    {
      "cell_type": "markdown",
      "metadata": {
        "papermill": {
          "duration": 0.029679,
          "end_time": "2021-10-19T18:15:39.403940",
          "exception": false,
          "start_time": "2021-10-19T18:15:39.374261",
          "status": "completed"
        },
        "tags": [],
        "id": "034a333e"
      },
      "source": [
        "<h4>Contrary to expectation, sex alone is not significantly attached to the outcome in this dataset, as denoted by the high p-value.\n",
        "In this case, we failed to reject the null hypothesis that males and females have the same death event rates.</h4>"
      ],
      "id": "034a333e"
    },
    {
      "cell_type": "markdown",
      "metadata": {
        "papermill": {
          "duration": 0.029621,
          "end_time": "2021-10-19T18:15:39.463214",
          "exception": false,
          "start_time": "2021-10-19T18:15:39.433593",
          "status": "completed"
        },
        "tags": [],
        "id": "acc032e2"
      },
      "source": [
        "Before addressing the imbalances, we will divide the sample into training and testing. We will use an 80/20 split for training and test data,respectively.\n",
        "\n",
        "First, create an index:"
      ],
      "id": "acc032e2"
    },
    {
      "cell_type": "code",
      "metadata": {
        "execution": {
          "iopub.execute_input": "2021-10-19T18:15:39.528203Z",
          "iopub.status.busy": "2021-10-19T18:15:39.526668Z",
          "iopub.status.idle": "2021-10-19T18:15:39.571551Z",
          "shell.execute_reply": "2021-10-19T18:15:39.569887Z"
        },
        "papermill": {
          "duration": 0.078681,
          "end_time": "2021-10-19T18:15:39.571725",
          "exception": false,
          "start_time": "2021-10-19T18:15:39.493044",
          "status": "completed"
        },
        "tags": [],
        "id": "b650e525",
        "outputId": "4022f612-81ef-47c7-8b2e-b385bc4e4420"
      },
      "source": [
        "data$id <- c(1:nrow(data))\n",
        "data <-relocate(data, id, .before=age)\n",
        "head(data)"
      ],
      "id": "b650e525",
      "execution_count": null,
      "outputs": [
        {
          "data": {
            "text/html": [
              "<table class=\"dataframe\">\n",
              "<caption>A data.frame: 6 × 14</caption>\n",
              "<thead>\n",
              "\t<tr><th></th><th scope=col>id</th><th scope=col>age</th><th scope=col>anaemia</th><th scope=col>creatinine_phosphokinase</th><th scope=col>diabetes</th><th scope=col>ejection_fraction</th><th scope=col>high_blood_pressure</th><th scope=col>platelets</th><th scope=col>serum_creatinine</th><th scope=col>serum_sodium</th><th scope=col>sex</th><th scope=col>smoking</th><th scope=col>time</th><th scope=col>DEATH_EVENT</th></tr>\n",
              "\t<tr><th></th><th scope=col>&lt;int&gt;</th><th scope=col>&lt;dbl&gt;</th><th scope=col>&lt;fct&gt;</th><th scope=col>&lt;int&gt;</th><th scope=col>&lt;fct&gt;</th><th scope=col>&lt;int&gt;</th><th scope=col>&lt;fct&gt;</th><th scope=col>&lt;dbl&gt;</th><th scope=col>&lt;dbl&gt;</th><th scope=col>&lt;int&gt;</th><th scope=col>&lt;fct&gt;</th><th scope=col>&lt;fct&gt;</th><th scope=col>&lt;int&gt;</th><th scope=col>&lt;fct&gt;</th></tr>\n",
              "</thead>\n",
              "<tbody>\n",
              "\t<tr><th scope=row>1</th><td>1</td><td>75</td><td>No </td><td> 582</td><td>No </td><td>20</td><td>Yes</td><td>265000</td><td>1.9</td><td>130</td><td>Male  </td><td>No </td><td>4</td><td>Yes</td></tr>\n",
              "\t<tr><th scope=row>2</th><td>2</td><td>55</td><td>No </td><td>7861</td><td>No </td><td>38</td><td>No </td><td>263358</td><td>1.1</td><td>136</td><td>Male  </td><td>No </td><td>6</td><td>Yes</td></tr>\n",
              "\t<tr><th scope=row>3</th><td>3</td><td>65</td><td>No </td><td> 146</td><td>No </td><td>20</td><td>No </td><td>162000</td><td>1.3</td><td>129</td><td>Male  </td><td>Yes</td><td>7</td><td>Yes</td></tr>\n",
              "\t<tr><th scope=row>4</th><td>4</td><td>50</td><td>Yes</td><td> 111</td><td>No </td><td>20</td><td>No </td><td>210000</td><td>1.9</td><td>137</td><td>Male  </td><td>No </td><td>7</td><td>Yes</td></tr>\n",
              "\t<tr><th scope=row>5</th><td>5</td><td>65</td><td>Yes</td><td> 160</td><td>Yes</td><td>20</td><td>No </td><td>327000</td><td>2.7</td><td>116</td><td>Female</td><td>No </td><td>8</td><td>Yes</td></tr>\n",
              "\t<tr><th scope=row>6</th><td>6</td><td>90</td><td>Yes</td><td>  47</td><td>No </td><td>40</td><td>Yes</td><td>204000</td><td>2.1</td><td>132</td><td>Male  </td><td>Yes</td><td>8</td><td>Yes</td></tr>\n",
              "</tbody>\n",
              "</table>\n"
            ],
            "text/latex": [
              "A data.frame: 6 × 14\n",
              "\\begin{tabular}{r|llllllllllllll}\n",
              "  & id & age & anaemia & creatinine\\_phosphokinase & diabetes & ejection\\_fraction & high\\_blood\\_pressure & platelets & serum\\_creatinine & serum\\_sodium & sex & smoking & time & DEATH\\_EVENT\\\\\n",
              "  & <int> & <dbl> & <fct> & <int> & <fct> & <int> & <fct> & <dbl> & <dbl> & <int> & <fct> & <fct> & <int> & <fct>\\\\\n",
              "\\hline\n",
              "\t1 & 1 & 75 & No  &  582 & No  & 20 & Yes & 265000 & 1.9 & 130 & Male   & No  & 4 & Yes\\\\\n",
              "\t2 & 2 & 55 & No  & 7861 & No  & 38 & No  & 263358 & 1.1 & 136 & Male   & No  & 6 & Yes\\\\\n",
              "\t3 & 3 & 65 & No  &  146 & No  & 20 & No  & 162000 & 1.3 & 129 & Male   & Yes & 7 & Yes\\\\\n",
              "\t4 & 4 & 50 & Yes &  111 & No  & 20 & No  & 210000 & 1.9 & 137 & Male   & No  & 7 & Yes\\\\\n",
              "\t5 & 5 & 65 & Yes &  160 & Yes & 20 & No  & 327000 & 2.7 & 116 & Female & No  & 8 & Yes\\\\\n",
              "\t6 & 6 & 90 & Yes &   47 & No  & 40 & Yes & 204000 & 2.1 & 132 & Male   & Yes & 8 & Yes\\\\\n",
              "\\end{tabular}\n"
            ],
            "text/markdown": [
              "\n",
              "A data.frame: 6 × 14\n",
              "\n",
              "| <!--/--> | id &lt;int&gt; | age &lt;dbl&gt; | anaemia &lt;fct&gt; | creatinine_phosphokinase &lt;int&gt; | diabetes &lt;fct&gt; | ejection_fraction &lt;int&gt; | high_blood_pressure &lt;fct&gt; | platelets &lt;dbl&gt; | serum_creatinine &lt;dbl&gt; | serum_sodium &lt;int&gt; | sex &lt;fct&gt; | smoking &lt;fct&gt; | time &lt;int&gt; | DEATH_EVENT &lt;fct&gt; |\n",
              "|---|---|---|---|---|---|---|---|---|---|---|---|---|---|---|\n",
              "| 1 | 1 | 75 | No  |  582 | No  | 20 | Yes | 265000 | 1.9 | 130 | Male   | No  | 4 | Yes |\n",
              "| 2 | 2 | 55 | No  | 7861 | No  | 38 | No  | 263358 | 1.1 | 136 | Male   | No  | 6 | Yes |\n",
              "| 3 | 3 | 65 | No  |  146 | No  | 20 | No  | 162000 | 1.3 | 129 | Male   | Yes | 7 | Yes |\n",
              "| 4 | 4 | 50 | Yes |  111 | No  | 20 | No  | 210000 | 1.9 | 137 | Male   | No  | 7 | Yes |\n",
              "| 5 | 5 | 65 | Yes |  160 | Yes | 20 | No  | 327000 | 2.7 | 116 | Female | No  | 8 | Yes |\n",
              "| 6 | 6 | 90 | Yes |   47 | No  | 40 | Yes | 204000 | 2.1 | 132 | Male   | Yes | 8 | Yes |\n",
              "\n"
            ],
            "text/plain": [
              "  id age anaemia creatinine_phosphokinase diabetes ejection_fraction\n",
              "1 1  75  No       582                     No       20               \n",
              "2 2  55  No      7861                     No       38               \n",
              "3 3  65  No       146                     No       20               \n",
              "4 4  50  Yes      111                     No       20               \n",
              "5 5  65  Yes      160                     Yes      20               \n",
              "6 6  90  Yes       47                     No       40               \n",
              "  high_blood_pressure platelets serum_creatinine serum_sodium sex    smoking\n",
              "1 Yes                 265000    1.9              130          Male   No     \n",
              "2 No                  263358    1.1              136          Male   No     \n",
              "3 No                  162000    1.3              129          Male   Yes    \n",
              "4 No                  210000    1.9              137          Male   No     \n",
              "5 No                  327000    2.7              116          Female No     \n",
              "6 Yes                 204000    2.1              132          Male   Yes    \n",
              "  time DEATH_EVENT\n",
              "1 4    Yes        \n",
              "2 6    Yes        \n",
              "3 7    Yes        \n",
              "4 7    Yes        \n",
              "5 8    Yes        \n",
              "6 8    Yes        "
            ]
          },
          "metadata": {},
          "output_type": "display_data"
        }
      ]
    },
    {
      "cell_type": "markdown",
      "metadata": {
        "execution": {
          "iopub.execute_input": "2021-10-11T14:11:59.80928Z",
          "iopub.status.busy": "2021-10-11T14:11:59.807941Z",
          "iopub.status.idle": "2021-10-11T14:11:59.822423Z"
        },
        "papermill": {
          "duration": 0.030485,
          "end_time": "2021-10-19T18:15:39.633320",
          "exception": false,
          "start_time": "2021-10-19T18:15:39.602835",
          "status": "completed"
        },
        "tags": [],
        "id": "b5e56f7a"
      },
      "source": [
        "Now we sample the training data, and subtract it from the whole to define the test data"
      ],
      "id": "b5e56f7a"
    },
    {
      "cell_type": "code",
      "metadata": {
        "execution": {
          "iopub.execute_input": "2021-10-19T18:15:39.699889Z",
          "iopub.status.busy": "2021-10-19T18:15:39.698363Z",
          "iopub.status.idle": "2021-10-19T18:15:39.724462Z",
          "shell.execute_reply": "2021-10-19T18:15:39.722684Z"
        },
        "papermill": {
          "duration": 0.060874,
          "end_time": "2021-10-19T18:15:39.724652",
          "exception": false,
          "start_time": "2021-10-19T18:15:39.663778",
          "status": "completed"
        },
        "tags": [],
        "id": "8b74be70",
        "outputId": "894b90a0-960d-4d29-8952-6594bf60c248"
      },
      "source": [
        "train_data <- slice_sample(data, n = (nrow(data)*0.8), replace = FALSE)\n",
        "nrow(train_data)"
      ],
      "id": "8b74be70",
      "execution_count": null,
      "outputs": [
        {
          "data": {
            "text/html": [
              "239"
            ],
            "text/latex": [
              "239"
            ],
            "text/markdown": [
              "239"
            ],
            "text/plain": [
              "[1] 239"
            ]
          },
          "metadata": {},
          "output_type": "display_data"
        }
      ]
    },
    {
      "cell_type": "code",
      "metadata": {
        "execution": {
          "iopub.execute_input": "2021-10-19T18:15:39.794318Z",
          "iopub.status.busy": "2021-10-19T18:15:39.792784Z",
          "iopub.status.idle": "2021-10-19T18:15:39.814679Z",
          "shell.execute_reply": "2021-10-19T18:15:39.813287Z"
        },
        "papermill": {
          "duration": 0.057487,
          "end_time": "2021-10-19T18:15:39.814840",
          "exception": false,
          "start_time": "2021-10-19T18:15:39.757353",
          "status": "completed"
        },
        "tags": [],
        "id": "28caaebe",
        "outputId": "bfc00595-9a70-40f7-971e-375bad4dd7e1"
      },
      "source": [
        "test_data <- filter(data, (data$id %in% train_data$id) == FALSE)\n",
        "nrow(test_data)"
      ],
      "id": "28caaebe",
      "execution_count": null,
      "outputs": [
        {
          "data": {
            "text/html": [
              "60"
            ],
            "text/latex": [
              "60"
            ],
            "text/markdown": [
              "60"
            ],
            "text/plain": [
              "[1] 60"
            ]
          },
          "metadata": {},
          "output_type": "display_data"
        }
      ]
    },
    {
      "cell_type": "markdown",
      "metadata": {
        "papermill": {
          "duration": 0.03207,
          "end_time": "2021-10-19T18:15:39.879128",
          "exception": false,
          "start_time": "2021-10-19T18:15:39.847058",
          "status": "completed"
        },
        "tags": [],
        "id": "3886c983"
      },
      "source": [
        "We proceed to train a model using logistic regression"
      ],
      "id": "3886c983"
    },
    {
      "cell_type": "code",
      "metadata": {
        "execution": {
          "iopub.execute_input": "2021-10-19T18:15:39.949253Z",
          "iopub.status.busy": "2021-10-19T18:15:39.947853Z",
          "iopub.status.idle": "2021-10-19T18:15:39.991913Z",
          "shell.execute_reply": "2021-10-19T18:15:39.990248Z"
        },
        "papermill": {
          "duration": 0.081046,
          "end_time": "2021-10-19T18:15:39.992065",
          "exception": false,
          "start_time": "2021-10-19T18:15:39.911019",
          "status": "completed"
        },
        "tags": [],
        "id": "854cea4a",
        "outputId": "93432fc9-487f-4e45-8d04-48a45571d9c0"
      },
      "source": [
        "model <- glm(DEATH_EVENT~.-time -id, data=train_data, family=\"binomial\")\n",
        "summary(model)"
      ],
      "id": "854cea4a",
      "execution_count": null,
      "outputs": [
        {
          "data": {
            "text/plain": [
              "\n",
              "Call:\n",
              "glm(formula = DEATH_EVENT ~ . - time - id, family = \"binomial\", \n",
              "    data = train_data)\n",
              "\n",
              "Deviance Residuals: \n",
              "    Min       1Q   Median       3Q      Max  \n",
              "-2.2785  -0.7740  -0.4732   0.7745   2.4827  \n",
              "\n",
              "Coefficients:\n",
              "                           Estimate Std. Error z value Pr(>|z|)    \n",
              "(Intercept)               3.556e+00  5.223e+00   0.681   0.4960    \n",
              "age                       5.983e-02  1.469e-02   4.072 4.67e-05 ***\n",
              "anaemiaYes                5.895e-01  3.448e-01   1.710   0.0873 .  \n",
              "creatinine_phosphokinase  1.744e-04  1.884e-04   0.925   0.3548    \n",
              "diabetesYes               1.649e-01  3.383e-01   0.488   0.6259    \n",
              "ejection_fraction        -6.886e-02  1.709e-02  -4.028 5.62e-05 ***\n",
              "high_blood_pressureYes    4.131e-01  3.462e-01   1.193   0.2328    \n",
              "platelets                 6.262e-07  1.929e-06   0.325   0.7455    \n",
              "serum_creatinine          7.561e-01  2.351e-01   3.217   0.0013 ** \n",
              "serum_sodium             -5.223e-02  3.736e-02  -1.398   0.1621    \n",
              "sexMale                  -3.988e-01  4.001e-01  -0.997   0.3189    \n",
              "smokingYes                1.387e-01  4.060e-01   0.342   0.7326    \n",
              "---\n",
              "Signif. codes:  0 ‘***’ 0.001 ‘**’ 0.01 ‘*’ 0.05 ‘.’ 0.1 ‘ ’ 1\n",
              "\n",
              "(Dispersion parameter for binomial family taken to be 1)\n",
              "\n",
              "    Null deviance: 300.42  on 238  degrees of freedom\n",
              "Residual deviance: 233.25  on 227  degrees of freedom\n",
              "AIC: 257.25\n",
              "\n",
              "Number of Fisher Scoring iterations: 5\n"
            ]
          },
          "metadata": {},
          "output_type": "display_data"
        }
      ]
    },
    {
      "cell_type": "markdown",
      "metadata": {
        "papermill": {
          "duration": 0.033417,
          "end_time": "2021-10-19T18:15:40.058144",
          "exception": false,
          "start_time": "2021-10-19T18:15:40.024727",
          "status": "completed"
        },
        "tags": [],
        "id": "396dd071"
      },
      "source": [
        "Make test predictions"
      ],
      "id": "396dd071"
    },
    {
      "cell_type": "code",
      "metadata": {
        "execution": {
          "iopub.execute_input": "2021-10-19T18:15:40.130208Z",
          "iopub.status.busy": "2021-10-19T18:15:40.128134Z",
          "iopub.status.idle": "2021-10-19T18:15:40.382434Z",
          "shell.execute_reply": "2021-10-19T18:15:40.380969Z"
        },
        "papermill": {
          "duration": 0.291796,
          "end_time": "2021-10-19T18:15:40.382608",
          "exception": false,
          "start_time": "2021-10-19T18:15:40.090812",
          "status": "completed"
        },
        "tags": [],
        "id": "967c4e55",
        "outputId": "93bd23a8-a3d6-4ef7-be23-6aea6e52d8d6"
      },
      "source": [
        "predictions <- predict(model, test_data, type='response')\n",
        "hist(predictions, xlab=\"Predicted Probability\", main=\"Probabilities of Death Event\")"
      ],
      "id": "967c4e55",
      "execution_count": null,
      "outputs": [
        {
          "data": {
            "image/png": "[encoded data removed]"
          },
          "metadata": {
            "image/png": {
              "height": 420,
              "width": 420
            }
          },
          "output_type": "display_data"
        }
      ]
    },
    {
      "cell_type": "markdown",
      "metadata": {
        "papermill": {
          "duration": 0.033413,
          "end_time": "2021-10-19T18:15:40.449966",
          "exception": false,
          "start_time": "2021-10-19T18:15:40.416553",
          "status": "completed"
        },
        "tags": [],
        "id": "cc3e5872"
      },
      "source": [
        "<p>Now we have a vector of predicted probabilities, between 0 and 1, of death event predicted by our model. We can compare these raw predictions with the real outcomes.</p>"
      ],
      "id": "cc3e5872"
    },
    {
      "cell_type": "code",
      "metadata": {
        "execution": {
          "iopub.execute_input": "2021-10-19T18:15:40.523366Z",
          "iopub.status.busy": "2021-10-19T18:15:40.521405Z",
          "iopub.status.idle": "2021-10-19T18:15:40.923859Z",
          "shell.execute_reply": "2021-10-19T18:15:40.922181Z"
        },
        "papermill": {
          "duration": 0.440498,
          "end_time": "2021-10-19T18:15:40.924008",
          "exception": false,
          "start_time": "2021-10-19T18:15:40.483510",
          "status": "completed"
        },
        "tags": [],
        "id": "dbde514f",
        "outputId": "1f339d70-ec8f-4275-93c8-a99ab54bdb54"
      },
      "source": [
        "df <- data.frame(predicted_probability=predictions,death=test_data$DEATH_EVENT)\n",
        "df <- arrange(df, predicted_probability)\n",
        "df$index <- 1:nrow(df)\n",
        "df %>%\n",
        "    ggplot()+geom_point(aes(x=index,y=predicted_probability, color=death))"
      ],
      "id": "dbde514f",
      "execution_count": null,
      "outputs": [
        {
          "data": {
            "image/png": "[encoded data removed]"
          },
          "metadata": {
            "image/png": {
              "height": 420,
              "width": 420
            }
          },
          "output_type": "display_data"
        }
      ]
    },
    {
      "cell_type": "markdown",
      "metadata": {
        "papermill": {
          "duration": 0.035034,
          "end_time": "2021-10-19T18:15:40.995131",
          "exception": false,
          "start_time": "2021-10-19T18:15:40.960097",
          "status": "completed"
        },
        "tags": [],
        "id": "b3f6a45d"
      },
      "source": [
        "This chart is useful to help select the most appropriate cutoff value. If we use the standard 0.5 cutoff, the results won't be the most accurate."
      ],
      "id": "b3f6a45d"
    },
    {
      "cell_type": "code",
      "metadata": {
        "execution": {
          "iopub.execute_input": "2021-10-19T18:15:41.072543Z",
          "iopub.status.busy": "2021-10-19T18:15:41.070659Z",
          "iopub.status.idle": "2021-10-19T18:15:41.349387Z",
          "shell.execute_reply": "2021-10-19T18:15:41.347754Z"
        },
        "papermill": {
          "duration": 0.318532,
          "end_time": "2021-10-19T18:15:41.349575",
          "exception": false,
          "start_time": "2021-10-19T18:15:41.031043",
          "status": "completed"
        },
        "tags": [],
        "id": "6501fe30",
        "outputId": "279c8367-691c-4f2f-bca2-da886acd4874"
      },
      "source": [
        "df$predicted_event <- as.factor(ifelse(df$predicted_probability >= 0.5, \"Yes\",\"No\"))\n",
        "df$result <- ifelse(df$predicted_event==df$death,TRUE,FALSE)\n",
        "df %>%\n",
        "    ggplot()+geom_point(aes(x=index,y=predicted_probability, color=result))+\n",
        "    geom_hline(yintercept=0.5, color='red', alpha=0.6)"
      ],
      "id": "6501fe30",
      "execution_count": null,
      "outputs": [
        {
          "data": {
            "image/png": "[encoded data removed]"
          },
          "metadata": {
            "image/png": {
              "height": 420,
              "width": 420
            }
          },
          "output_type": "display_data"
        }
      ]
    },
    {
      "cell_type": "code",
      "metadata": {
        "execution": {
          "iopub.execute_input": "2021-10-19T18:15:41.428418Z",
          "iopub.status.busy": "2021-10-19T18:15:41.426450Z",
          "iopub.status.idle": "2021-10-19T18:15:41.446044Z",
          "shell.execute_reply": "2021-10-19T18:15:41.444633Z"
        },
        "papermill": {
          "duration": 0.060233,
          "end_time": "2021-10-19T18:15:41.446188",
          "exception": false,
          "start_time": "2021-10-19T18:15:41.385955",
          "status": "completed"
        },
        "tags": [],
        "id": "a69e5d68",
        "outputId": "c38fb4f2-b95f-447f-ddd3-283b6f27d611"
      },
      "source": [
        "confusion_matrix <- xtabs(~predicted_event+death, data=df)\n",
        "confusion_matrix"
      ],
      "id": "a69e5d68",
      "execution_count": null,
      "outputs": [
        {
          "data": {
            "text/plain": [
              "               death\n",
              "predicted_event No Yes\n",
              "            No  35  10\n",
              "            Yes  6   9"
            ]
          },
          "metadata": {},
          "output_type": "display_data"
        }
      ]
    },
    {
      "cell_type": "markdown",
      "metadata": {
        "papermill": {
          "duration": 0.04364,
          "end_time": "2021-10-19T18:15:41.527110",
          "exception": false,
          "start_time": "2021-10-19T18:15:41.483470",
          "status": "completed"
        },
        "tags": [],
        "id": "84b16585"
      },
      "source": [
        "Looking at the confusion matrix for this example, we see that a 0.5, or 50% predicted probability cutoff, yields 35 true negatives, 9 true positives, 5 false positives, and 11 false negatives. This gives us:"
      ],
      "id": "84b16585"
    },
    {
      "cell_type": "code",
      "metadata": {
        "execution": {
          "iopub.execute_input": "2021-10-19T18:15:41.621949Z",
          "iopub.status.busy": "2021-10-19T18:15:41.620778Z",
          "iopub.status.idle": "2021-10-19T18:15:41.636372Z",
          "shell.execute_reply": "2021-10-19T18:15:41.634891Z"
        },
        "papermill": {
          "duration": 0.060761,
          "end_time": "2021-10-19T18:15:41.636591",
          "exception": false,
          "start_time": "2021-10-19T18:15:41.575830",
          "status": "completed"
        },
        "tags": [],
        "id": "23bfc834",
        "outputId": "88a27e7b-706f-4026-cb93-20b390f29ef7"
      },
      "source": [
        "cat(\" Sensitivity = \",confusion_matrix[4]/(confusion_matrix[4]+confusion_matrix[3]),\"\\n\",\n",
        "    \"Specificity = \", confusion_matrix[1]/(confusion_matrix[1]+confusion_matrix[2]),\"\\n\",\n",
        "    \"Accuracy = \", (confusion_matrix[1]+confusion_matrix[4])/(confusion_matrix[1]+confusion_matrix[2]+confusion_matrix[3]+confusion_matrix[4]))"
      ],
      "id": "23bfc834",
      "execution_count": null,
      "outputs": [
        {
          "name": "stdout",
          "output_type": "stream",
          "text": [
            " Sensitivity =  0.4736842 \n",
            " Specificity =  0.8536585 \n",
            " Accuracy =  0.7333333"
          ]
        }
      ]
    },
    {
      "cell_type": "markdown",
      "metadata": {
        "papermill": {
          "duration": 0.039299,
          "end_time": "2021-10-19T18:15:41.719840",
          "exception": false,
          "start_time": "2021-10-19T18:15:41.680541",
          "status": "completed"
        },
        "tags": [],
        "id": "eb519a38"
      },
      "source": [
        "The sensitivity this approach gave us is pretty bad, we are missing a lot of cases. Thankfully, there is a resource that can allow us to select the optimal cutoff, the Receiver Operator Curve (ROC)."
      ],
      "id": "eb519a38"
    },
    {
      "cell_type": "code",
      "metadata": {
        "execution": {
          "iopub.execute_input": "2021-10-19T18:15:41.822265Z",
          "iopub.status.busy": "2021-10-19T18:15:41.819283Z",
          "iopub.status.idle": "2021-10-19T18:15:41.914691Z",
          "shell.execute_reply": "2021-10-19T18:15:41.913034Z"
        },
        "papermill": {
          "duration": 0.15608,
          "end_time": "2021-10-19T18:15:41.914875",
          "exception": false,
          "start_time": "2021-10-19T18:15:41.758795",
          "status": "completed"
        },
        "tags": [],
        "id": "36b31a89",
        "outputId": "ecc6d375-aebd-43c4-abf1-4741f003f6a0"
      },
      "source": [
        "library(pROC)\n",
        "roc <- roc(df, response=death, predictor=predicted_probability)"
      ],
      "id": "36b31a89",
      "execution_count": null,
      "outputs": [
        {
          "name": "stderr",
          "output_type": "stream",
          "text": [
            "Type 'citation(\"pROC\")' for a citation.\n",
            "\n",
            "\n",
            "Attaching package: ‘pROC’\n",
            "\n",
            "\n",
            "The following objects are masked from ‘package:stats’:\n",
            "\n",
            "    cov, smooth, var\n",
            "\n",
            "\n",
            "Setting levels: control = No, case = Yes\n",
            "\n",
            "Setting direction: controls < cases\n",
            "\n"
          ]
        }
      ]
    },
    {
      "cell_type": "code",
      "metadata": {
        "execution": {
          "iopub.execute_input": "2021-10-19T18:15:42.013197Z",
          "iopub.status.busy": "2021-10-19T18:15:42.011124Z",
          "iopub.status.idle": "2021-10-19T18:15:42.090387Z",
          "shell.execute_reply": "2021-10-19T18:15:42.089487Z"
        },
        "papermill": {
          "duration": 0.125795,
          "end_time": "2021-10-19T18:15:42.090594",
          "exception": false,
          "start_time": "2021-10-19T18:15:41.964799",
          "status": "completed"
        },
        "tags": [],
        "id": "bba301ab",
        "outputId": "47c1b88a-1b3a-431c-85c2-6d0f4571e3a9"
      },
      "source": [
        "plot(roc)\n",
        "print(roc)"
      ],
      "id": "bba301ab",
      "execution_count": null,
      "outputs": [
        {
          "name": "stdout",
          "output_type": "stream",
          "text": [
            "\n",
            "Call:\n",
            "roc.data.frame(data = df, response = death, predictor = predicted_probability)\n",
            "\n",
            "Data: predicted_probability in 41 controls (death No) < 19 cases (death Yes).\n",
            "Area under the curve: 0.8062\n"
          ]
        },
        {
          "data": {
            "image/png": "[encoded data removed]"
          },
          "metadata": {
            "image/png": {
              "height": 420,
              "width": 420
            }
          },
          "output_type": "display_data"
        }
      ]
    },
    {
      "cell_type": "markdown",
      "metadata": {
        "papermill": {
          "duration": 0.041205,
          "end_time": "2021-10-19T18:15:42.179035",
          "exception": false,
          "start_time": "2021-10-19T18:15:42.137830",
          "status": "completed"
        },
        "tags": [],
        "id": "b9747d8a"
      },
      "source": [
        "The optimal point is the one closest to the top left of the chart, indicating the highest sensitivity and specificity possible for the model (note that the x axis is inverted in this kind of chart)."
      ],
      "id": "b9747d8a"
    },
    {
      "cell_type": "code",
      "metadata": {
        "execution": {
          "iopub.execute_input": "2021-10-19T18:15:42.267225Z",
          "iopub.status.busy": "2021-10-19T18:15:42.265086Z",
          "iopub.status.idle": "2021-10-19T18:15:42.298425Z",
          "shell.execute_reply": "2021-10-19T18:15:42.296655Z"
        },
        "papermill": {
          "duration": 0.079024,
          "end_time": "2021-10-19T18:15:42.298614",
          "exception": false,
          "start_time": "2021-10-19T18:15:42.219590",
          "status": "completed"
        },
        "tags": [],
        "id": "c1b83b18",
        "outputId": "8ca91f78-1194-4cb1-afef-43e64bd30e96"
      },
      "source": [
        "threshold<-coords(roc, x='best', best.method='closest.topleft')\n",
        "threshold"
      ],
      "id": "c1b83b18",
      "execution_count": null,
      "outputs": [
        {
          "data": {
            "text/html": [
              "<table class=\"dataframe\">\n",
              "<caption>A data.frame: 1 × 3</caption>\n",
              "<thead>\n",
              "\t<tr><th scope=col>threshold</th><th scope=col>specificity</th><th scope=col>sensitivity</th></tr>\n",
              "\t<tr><th scope=col>&lt;dbl&gt;</th><th scope=col>&lt;dbl&gt;</th><th scope=col>&lt;dbl&gt;</th></tr>\n",
              "</thead>\n",
              "<tbody>\n",
              "\t<tr><td>0.2811617</td><td>0.7560976</td><td>0.8947368</td></tr>\n",
              "</tbody>\n",
              "</table>\n"
            ],
            "text/latex": [
              "A data.frame: 1 × 3\n",
              "\\begin{tabular}{lll}\n",
              " threshold & specificity & sensitivity\\\\\n",
              " <dbl> & <dbl> & <dbl>\\\\\n",
              "\\hline\n",
              "\t 0.2811617 & 0.7560976 & 0.8947368\\\\\n",
              "\\end{tabular}\n"
            ],
            "text/markdown": [
              "\n",
              "A data.frame: 1 × 3\n",
              "\n",
              "| threshold &lt;dbl&gt; | specificity &lt;dbl&gt; | sensitivity &lt;dbl&gt; |\n",
              "|---|---|---|\n",
              "| 0.2811617 | 0.7560976 | 0.8947368 |\n",
              "\n"
            ],
            "text/plain": [
              "  threshold specificity sensitivity\n",
              "1 0.2811617 0.7560976   0.8947368  "
            ]
          },
          "metadata": {},
          "output_type": "display_data"
        }
      ]
    },
    {
      "cell_type": "markdown",
      "metadata": {
        "papermill": {
          "duration": 0.040679,
          "end_time": "2021-10-19T18:15:42.382402",
          "exception": false,
          "start_time": "2021-10-19T18:15:42.341723",
          "status": "completed"
        },
        "tags": [],
        "id": "27eaaf42"
      },
      "source": [
        "Let's redraw our prediction plot using this threshold, and color the correct and incorrect results"
      ],
      "id": "27eaaf42"
    },
    {
      "cell_type": "code",
      "metadata": {
        "execution": {
          "iopub.execute_input": "2021-10-19T18:15:42.470114Z",
          "iopub.status.busy": "2021-10-19T18:15:42.468939Z",
          "iopub.status.idle": "2021-10-19T18:15:42.741172Z",
          "shell.execute_reply": "2021-10-19T18:15:42.739269Z"
        },
        "papermill": {
          "duration": 0.318201,
          "end_time": "2021-10-19T18:15:42.741338",
          "exception": false,
          "start_time": "2021-10-19T18:15:42.423137",
          "status": "completed"
        },
        "tags": [],
        "id": "260ad1ae",
        "outputId": "5434f3a2-78c3-41c9-ee94-c4df6bf29511"
      },
      "source": [
        "df$predicted_event <- as.factor(ifelse(df$predicted_probability>=threshold$threshold, \"Yes\",\"No\"))\n",
        "df$result <- ifelse(df$predicted_event==df$death,TRUE,FALSE)\n",
        "df %>%\n",
        "    ggplot()+geom_point(aes(x=index,y=predicted_probability, color=result))"
      ],
      "id": "260ad1ae",
      "execution_count": null,
      "outputs": [
        {
          "data": {
            "image/png": "[encoded data removed]"
          },
          "metadata": {
            "image/png": {
              "height": 420,
              "width": 420
            }
          },
          "output_type": "display_data"
        }
      ]
    },
    {
      "cell_type": "code",
      "metadata": {
        "execution": {
          "iopub.execute_input": "2021-10-19T18:15:42.833925Z",
          "iopub.status.busy": "2021-10-19T18:15:42.831799Z",
          "iopub.status.idle": "2021-10-19T18:15:42.856985Z",
          "shell.execute_reply": "2021-10-19T18:15:42.855444Z"
        },
        "papermill": {
          "duration": 0.072652,
          "end_time": "2021-10-19T18:15:42.857139",
          "exception": false,
          "start_time": "2021-10-19T18:15:42.784487",
          "status": "completed"
        },
        "tags": [],
        "id": "5f0d2158",
        "outputId": "eaa7dd4b-0c31-44a0-adf7-04c8178fff8d"
      },
      "source": [
        "confusion_matrix <- xtabs(~predicted_event+death,data=df)\n",
        "confusion_matrix\n",
        "cat(\" Sensitivity = \",confusion_matrix[4]/(confusion_matrix[4]+confusion_matrix[3]),\"\\n\",\n",
        "    \"Specificity = \", confusion_matrix[1]/(confusion_matrix[1]+confusion_matrix[2]),\"\\n\",\n",
        "    \"Accuracy = \", (confusion_matrix[1]+confusion_matrix[4])/(confusion_matrix[1]+confusion_matrix[2]+confusion_matrix[3]+confusion_matrix[4]))"
      ],
      "id": "5f0d2158",
      "execution_count": null,
      "outputs": [
        {
          "data": {
            "text/plain": [
              "               death\n",
              "predicted_event No Yes\n",
              "            No  31   2\n",
              "            Yes 10  17"
            ]
          },
          "metadata": {},
          "output_type": "display_data"
        },
        {
          "name": "stdout",
          "output_type": "stream",
          "text": [
            " Sensitivity =  0.8947368 \n",
            " Specificity =  0.7560976 \n",
            " Accuracy =  0.8"
          ]
        }
      ]
    },
    {
      "cell_type": "markdown",
      "metadata": {
        "papermill": {
          "duration": 0.04281,
          "end_time": "2021-10-19T18:15:42.943385",
          "exception": false,
          "start_time": "2021-10-19T18:15:42.900575",
          "status": "completed"
        },
        "tags": [],
        "id": "3db06e96"
      },
      "source": [
        "Selecting the adequate threshold improves the model's performance. There are other approaches to improve the model, such as feature selection and engineering, that will not be described here."
      ],
      "id": "3db06e96"
    }
  ]
}